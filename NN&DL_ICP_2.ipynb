{
  "nbformat": 4,
  "nbformat_minor": 0,
  "metadata": {
    "colab": {
      "provenance": [],
      "mount_file_id": "1rQ7KQGaiD3NPnbtn5KUu17toep03GM9x",
      "authorship_tag": "ABX9TyMlhIyeUaet6UTSgo8FQOsr",
      "include_colab_link": true
    },
    "kernelspec": {
      "name": "python3",
      "display_name": "Python 3"
    },
    "language_info": {
      "name": "python"
    }
  },
  "cells": [
    {
      "cell_type": "markdown",
      "metadata": {
        "id": "view-in-github",
        "colab_type": "text"
      },
      "source": [
        "<a href=\"https://colab.research.google.com/github/AKHILACHINTHALA/NNandDLICP2/blob/main/NN%26DL_ICP_2.ipynb\" target=\"_parent\"><img src=\"https://colab.research.google.com/assets/colab-badge.svg\" alt=\"Open In Colab\"/></a>"
      ]
    },
    {
      "cell_type": "code",
      "execution_count": null,
      "metadata": {
        "colab": {
          "base_uri": "https://localhost:8080/"
        },
        "id": "QD6GaDizuyi9",
        "outputId": "fe5c2872-50ca-4276-c350-d0a93f71eb5f"
      },
      "outputs": [
        {
          "output_type": "stream",
          "name": "stdout",
          "text": [
            "Enter first name \n",
            "akhila\n",
            "Enter last name \n",
            "chinthala\n",
            "full name :  akhila chinthala\n",
            "alternate letters :  ahl hnhl\n"
          ]
        }
      ],
      "source": [
        "# QUE 1\n",
        "\n",
        "first_name = input(\"Enter first name \\n\")\n",
        "last_name = input(\"Enter last name \\n\")\n",
        "\n",
        "def string_alternative(name):\n",
        "    return (name[::2])\n",
        "\n",
        "def fullName(first_name, last_name):\n",
        "    name = first_name + \" \" + last_name\n",
        "    print (\"full name : \", name)\n",
        "    sa = string_alternative(name)\n",
        "    print(\"alternate letters : \", sa)\n",
        "\n",
        "\n",
        "fullName(first_name, last_name)\n"
      ]
    },
    {
      "cell_type": "code",
      "source": [
        "# QUE 2\n",
        "\n",
        "from collections import Counter\n",
        "# to read file\n",
        "with open('/content/drive/My Drive/input.txt', 'r') as ipFile:\n",
        "    lines = ipFile.readlines()\n",
        "\n",
        "opLines = []\n",
        "\n",
        "#file1.close()\n",
        "listOfWords = []\n",
        "\n",
        "for line in lines:\n",
        "    opLines.append(line)\n",
        "    line = line.strip()\n",
        "    listOfWords.extend(line.split(\" \"))\n",
        "\n",
        "opLines.append(\"Word_Count:\")\n",
        "elementsCount = Counter(listOfWords)\n",
        "\n",
        "# to count occurance of each word\n",
        "for ele, count in elementsCount.items():\n",
        "  opLines.append(f\"{ele} - Count: {count}\")\n",
        "\n",
        "# to add content in file\n",
        "with open('/content/drive/My Drive/output.txt', 'w') as opFile:\n",
        "    for line in opLines:\n",
        "        opFile.write(line + '\\n')\n",
        "\n",
        "ipFile.close()\n",
        "opFile.close()"
      ],
      "metadata": {
        "id": "l0SMum0su9h4"
      },
      "execution_count": 9,
      "outputs": []
    },
    {
      "cell_type": "code",
      "source": [
        "# QUE 3\n",
        "\n",
        "inches = list(map(int, input().split(\" \")))\n",
        "cmList = []\n",
        "cm_comprehensions = []\n",
        "\n",
        "# Nested Interactive loop method\n",
        "for each in inches :\n",
        "    cm  = 2.54 * each\n",
        "    cmList.append(cm)\n",
        "\n",
        "print (\"Height in cm - Nested Interactive loop method \\n\", cmList)\n",
        "\n",
        "# List Comprehension method\n",
        "cm_comprehensions = [(height * 2.54) for height in inches]\n",
        "\n",
        "print (\"Height in cm - List Comprehension method \\n\", cm_comprehensions)"
      ],
      "metadata": {
        "colab": {
          "base_uri": "https://localhost:8080/"
        },
        "id": "Rpz7Z-QuvVG_",
        "outputId": "2f902a5a-cc41-4788-e3e8-826eb57fa4a7"
      },
      "execution_count": 2,
      "outputs": [
        {
          "output_type": "stream",
          "name": "stdout",
          "text": [
            "23\n",
            "Height in cm - Nested Interactive loop method \n",
            " [58.42]\n",
            "Height in cm - List Comprehension method \n",
            " [58.42]\n"
          ]
        }
      ]
    }
  ]
}