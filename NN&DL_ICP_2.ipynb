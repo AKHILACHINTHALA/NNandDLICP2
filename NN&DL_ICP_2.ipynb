{
  "nbformat": 4,
  "nbformat_minor": 0,
  "metadata": {
    "colab": {
      "provenance": [],
      "mount_file_id": "1rQ7KQGaiD3NPnbtn5KUu17toep03GM9x",
      "authorship_tag": "ABX9TyP4aHXKFY5eWr6evqKauERR",
      "include_colab_link": true
    },
    "kernelspec": {
      "name": "python3",
      "display_name": "Python 3"
    },
    "language_info": {
      "name": "python"
    }
  },
  "cells": [
    {
      "cell_type": "markdown",
      "metadata": {
        "id": "view-in-github",
        "colab_type": "text"
      },
      "source": [
        "<a href=\"https://colab.research.google.com/github/AKHILACHINTHALA/NNandDLICP2/blob/main/NN%26DL_ICP_2.ipynb\" target=\"_parent\"><img src=\"https://colab.research.google.com/assets/colab-badge.svg\" alt=\"Open In Colab\"/></a>"
      ]
    },
    {
      "cell_type": "code",
      "source": [],
      "metadata": {
        "id": "fr6o0Gyn7Vuy"
      },
      "execution_count": null,
      "outputs": []
    },
    {
      "cell_type": "code",
      "execution_count": 11,
      "metadata": {
        "colab": {
          "base_uri": "https://localhost:8080/"
        },
        "id": "QD6GaDizuyi9",
        "outputId": "fc7d5ae4-b00f-40c9-8888-c7d8cba3a80a"
      },
      "outputs": [
        {
          "output_type": "stream",
          "name": "stdout",
          "text": [
            "Enter first name \n",
            "akhila\n",
            "Enter last name \n",
            "chinthala\n",
            "full name :  akhila chinthala\n",
            "alternate letters :  ahl hnhl\n"
          ]
        }
      ],
      "source": [
        "# QUE 1\n",
        "\n",
        "first_name = input(\"Enter first name \\n\")\n",
        "last_name = input(\"Enter last name \\n\")\n",
        "\n",
        "def string_alternative(name):\n",
        "    return (name[::2])\n",
        "\n",
        "def fullName(first_name, last_name):\n",
        "    name = first_name + \" \" + last_name\n",
        "    print (\"full name : \", name)\n",
        "    sa = string_alternative(name)\n",
        "    print(\"alternate letters : \", sa)\n",
        "\n",
        "\n",
        "fullName(first_name, last_name)\n"
      ]
    },
    {
      "cell_type": "code",
      "source": [
        "# QUE 2\n",
        "\n",
        "from collections import Counter\n",
        "# to read file\n",
        "with open('/content/drive/My Drive/input.txt', 'r') as ipFile:\n",
        "    lines = ipFile.readlines()\n",
        "\n",
        "opLines = []\n",
        "\n",
        "#file1.close()\n",
        "listOfWords = []\n",
        "\n",
        "for line in lines:\n",
        "    opLines.append(line)\n",
        "    line = line.strip()\n",
        "    listOfWords.extend(line.split(\" \"))\n",
        "\n",
        "opLines.append(\"Word_Count:\")\n",
        "elementsCount = Counter(listOfWords)\n",
        "\n",
        "# to count occurance of each word\n",
        "for ele, count in elementsCount.items():\n",
        "  opLines.append(f\"{ele} - Count: {count}\")\n",
        "\n",
        "# to add content in file\n",
        "with open('/content/drive/My Drive/output.txt', 'w') as opFile:\n",
        "    for line in opLines:\n",
        "        opFile.write(line + '\\n')\n",
        "\n",
        "ipFile.close()\n",
        "opFile.close()"
      ],
      "metadata": {
        "id": "l0SMum0su9h4"
      },
      "execution_count": 12,
      "outputs": []
    },
    {
      "cell_type": "code",
      "source": [
        "# QUE 3\n",
        "\n",
        "inches = list(map(int, input().split(\" \")))\n",
        "cmList = []\n",
        "cm_comprehensions = []\n",
        "\n",
        "# Nested Interactive loop method\n",
        "for each in inches :\n",
        "    cm  = 2.54 * each\n",
        "    cmList.append(cm)\n",
        "\n",
        "print (\"Height in cm - Nested Interactive loop method \\n\", cmList)\n",
        "\n",
        "# List Comprehension method\n",
        "cm_comprehensions = [(height * 2.54) for height in inches]\n",
        "\n",
        "print (\"Height in cm - List Comprehension method \\n\", cm_comprehensions)"
      ],
      "metadata": {
        "colab": {
          "base_uri": "https://localhost:8080/"
        },
        "id": "Rpz7Z-QuvVG_",
        "outputId": "327b61e6-8695-4d9f-c538-6a2dfbc5cae2"
      },
      "execution_count": 13,
      "outputs": [
        {
          "output_type": "stream",
          "name": "stdout",
          "text": [
            "150 155 145 148\n",
            "Height in cm - Nested Interactive loop method \n",
            " [381.0, 393.7, 368.3, 375.92]\n",
            "Height in cm - List Comprehension method \n",
            " [381.0, 393.7, 368.3, 375.92]\n"
          ]
        }
      ]
    }
  ]
}